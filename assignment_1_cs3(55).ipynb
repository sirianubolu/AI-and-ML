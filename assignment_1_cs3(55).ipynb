{
  "nbformat": 4,
  "nbformat_minor": 0,
  "metadata": {
    "colab": {
      "name": "assignment-1 cs3(55).ipynb",
      "provenance": []
    },
    "kernelspec": {
      "name": "python3",
      "display_name": "Python 3"
    }
  },
  "cells": [
    {
      "cell_type": "markdown",
      "metadata": {
        "id": "BzHaWRgGXCU-",
        "colab_type": "text"
      },
      "source": [
        "##question 1"
      ]
    },
    {
      "cell_type": "code",
      "metadata": {
        "id": "cIwFcnfmXGrw",
        "colab_type": "code",
        "outputId": "da6e9e7a-980c-40bd-b279-2dd71809c54c",
        "colab": {
          "base_uri": "https://localhost:8080/",
          "height": 119
        }
      },
      "source": [
        "n = int(input(\"enter number of rows\"))\n",
        "i=1\n",
        "while i<=n:\n",
        "  print(\"* \"*i)\n",
        "  i +=1"
      ],
      "execution_count": 0,
      "outputs": [
        {
          "output_type": "stream",
          "text": [
            "enter number of rows5\n",
            "* \n",
            "* * \n",
            "* * * \n",
            "* * * * \n",
            "* * * * * \n"
          ],
          "name": "stdout"
        }
      ]
    },
    {
      "cell_type": "markdown",
      "metadata": {
        "id": "hjyPqP02XWpU",
        "colab_type": "text"
      },
      "source": [
        "##question 2"
      ]
    },
    {
      "cell_type": "code",
      "metadata": {
        "id": "Y4X6DQGdXZ8P",
        "colab_type": "code",
        "outputId": "74a9d437-527f-46b2-c5fc-203a0c619cba",
        "colab": {
          "base_uri": "https://localhost:8080/",
          "height": 204
        }
      },
      "source": [
        "n = int(input(\"enter the number\"))\n",
        "for i in range(1,11) :\n",
        "    print(n,\"*\",i,\"=\",n*i)"
      ],
      "execution_count": 0,
      "outputs": [
        {
          "output_type": "stream",
          "text": [
            "enter the number7\n",
            "7 * 1 = 7\n",
            "7 * 2 = 14\n",
            "7 * 3 = 21\n",
            "7 * 4 = 28\n",
            "7 * 5 = 35\n",
            "7 * 6 = 42\n",
            "7 * 7 = 49\n",
            "7 * 8 = 56\n",
            "7 * 9 = 63\n",
            "7 * 10 = 70\n"
          ],
          "name": "stdout"
        }
      ]
    },
    {
      "cell_type": "markdown",
      "metadata": {
        "id": "FvYMlq1BXWnM",
        "colab_type": "text"
      },
      "source": [
        "##question 3"
      ]
    },
    {
      "cell_type": "code",
      "metadata": {
        "id": "u_fuyWoMZnKC",
        "colab_type": "code",
        "outputId": "03910879-288c-4765-9be2-076ff99bc907",
        "colab": {
          "base_uri": "https://localhost:8080/",
          "height": 85
        }
      },
      "source": [
        "from math import sqrt\n",
        "a = float(input(\"a: \"))\n",
        "b = float(input(\"b: \"))\n",
        "c = float(input(\"c: \"))\n",
        "r = b**2 - 4*a*c\n",
        "if r > 0:\n",
        "    num_roots = 2\n",
        "    x1 = (((-b) + sqrt(r))/(2*a))     \n",
        "    x2 = (((-b) - sqrt(r))/(2*a))\n",
        "    print(\"There are 2 roots: %f and %f\" % (x1, x2))\n",
        "elif r == 0:\n",
        "    num_roots = 1\n",
        "    x = (-b) / 2*a\n",
        "    print(\"There is one root: \", x)\n",
        "else:\n",
        "    num_roots = 0\n",
        "    print(\"No roots, discriminant < 0.\")"
      ],
      "execution_count": 0,
      "outputs": [
        {
          "output_type": "stream",
          "text": [
            "a: 4\n",
            "b: 2\n",
            "c: 4\n",
            "No roots, discriminant < 0.\n"
          ],
          "name": "stdout"
        }
      ]
    },
    {
      "cell_type": "markdown",
      "metadata": {
        "id": "5sbKukvzZ3kp",
        "colab_type": "text"
      },
      "source": [
        "##question 4"
      ]
    },
    {
      "cell_type": "code",
      "metadata": {
        "id": "MUqnTGkfZ71w",
        "colab_type": "code",
        "outputId": "ddda7926-53df-4935-ab87-fccffc6149d1",
        "colab": {
          "base_uri": "https://localhost:8080/",
          "height": 51
        }
      },
      "source": [
        "def convertToBinary(n):\n",
        "   if n > 1:\n",
        "       convertToBinary(n//2)\n",
        "   print(n % 2,end = '')\n",
        "dec = int(input(\"enter the decimal to be converted\"))\n",
        "convertToBinary(dec)\n",
        "print()"
      ],
      "execution_count": 0,
      "outputs": [
        {
          "output_type": "stream",
          "text": [
            "enter the decimal to be converted6\n",
            "110\n"
          ],
          "name": "stdout"
        }
      ]
    },
    {
      "cell_type": "markdown",
      "metadata": {
        "id": "o-cT9K1IaD63",
        "colab_type": "text"
      },
      "source": [
        "#question 5"
      ]
    },
    {
      "cell_type": "code",
      "metadata": {
        "id": "eXrm0PTyaHp3",
        "colab_type": "code",
        "outputId": "3e5aa3b6-1eab-4774-9529-937ffe98f253",
        "colab": {
          "base_uri": "https://localhost:8080/",
          "height": 51
        }
      },
      "source": [
        "a=int(input(\"Enter the terms\"))\n",
        "f=0                                         \n",
        "s=1                                         \n",
        "if a<=0:\n",
        "    print(\"The requested series is\",f)\n",
        "else:\n",
        "    print(f,s,end=\" \")\n",
        "    for x in range(2,a):\n",
        "        next=f+s                           \n",
        "        print(next,end=\" \")\n",
        "        f=s\n",
        "        s=next"
      ],
      "execution_count": 0,
      "outputs": [
        {
          "output_type": "stream",
          "text": [
            "Enter the terms7\n",
            "0 1 1 2 3 5 8 "
          ],
          "name": "stdout"
        }
      ]
    },
    {
      "cell_type": "code",
      "metadata": {
        "id": "MvWye-YmXGqp",
        "colab_type": "code",
        "colab": {}
      },
      "source": [
        "7"
      ],
      "execution_count": 0,
      "outputs": []
    }
  ]
}